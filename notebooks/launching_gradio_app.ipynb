{
 "cells": [
  {
   "cell_type": "markdown",
   "metadata": {},
   "source": [
    "# Gradio GeoLlama App\n",
    "This notebook shows how to launch the Gradio based GeoLlama App. We will include the full pipeline, from translation to toponym extraction to geoparsing. This is essentially the contents of `app.py`, which can be run from the CLI with `$ python geo_llama/app.py`."
   ]
  },
  {
   "cell_type": "code",
   "execution_count": 6,
   "metadata": {},
   "outputs": [],
   "source": [
    "import random\n",
    "import sys\n",
    "sys.path.append('..')\n",
    "# third party imports\n",
    "import gradio as gr\n",
    "from geopy.distance import distance\n",
    "from geopy.geocoders import Nominatim\n",
    "# local imports\n",
    "from geo_llama.translator import Translator\n",
    "from geo_llama.model import RAGModel, TopoModel\n",
    "from geo_llama.main import GeoLlama\n",
    "from geo_llama.plotting import plot_map"
   ]
  },
  {
   "cell_type": "code",
   "execution_count": null,
   "metadata": {},
   "outputs": [],
   "source": [
    "translator = Translator(model_size='1.2B')\n",
    "topo_model = TopoModel(model_name='JoeShingleton/GeoLlama_7b_toponym', \n",
    "                    prompt_path='data/prompt_templates/prompt_template.txt',\n",
    "                    instruct_path='data/prompt_templates/topo_instruction.txt',\n",
    "                    input_path=None,\n",
    "                    config_path='data/config_files/model_config.json')\n",
    "\n",
    "rag_model = RAGModel(model_name='JoeShingleton/GeoLlama_7b_RAG', \n",
    "                    prompt_path='data/prompt_templates/prompt_template.txt',\n",
    "                    instruct_path='data/prompt_templates/rag_instruction.txt',\n",
    "                    input_path='data/prompt_templates/rag_input.txt',\n",
    "                    config_path='data/config_files/model_config.json')\n",
    "\n",
    "geo_llama = GeoLlama(topo_model, rag_model)"
   ]
  },
  {
   "cell_type": "code",
   "execution_count": null,
   "metadata": {},
   "outputs": [],
   "source": [
    "def translate(text):\n",
    "    out = translator.translate(text, out_lang='en')\n",
    "    return out\n",
    "\n",
    "\n",
    "def translate_name(name, coordinates):\n",
    "  \"\"\"We can't use the translator for the name because it tends to literally\n",
    "  translate rather than preserve place names. Instead, we'll look the place up\n",
    "  in Nominatim and return the english name of the first match.\n",
    "  \"\"\"\n",
    "  user_id = f'GeoLlama_{random.uniform(1000,10000)}'\n",
    "  nom = Nominatim(user_agent='Geo-Llama')\n",
    "  matches = nom.geocode(name, language='en', exactly_one=False)\n",
    "  # get the match which is closest to the provided coordinates\n",
    "  best = matches[0]\n",
    "  best_d = distance((best.latitude, best.longitude), coordinates)\n",
    "  for m in matches:\n",
    "    d = distance((m.latitude, m.longitude), coordinates)\n",
    "    if d < best_d:\n",
    "      best = m\n",
    "      best_d = d\n",
    "  try:\n",
    "    return best.address.split(',')[0]\n",
    "  except IndexError as e:\n",
    "    return name + ' (unable to translate place name)'\n",
    "\n",
    "\n",
    "def geoparse(text:str, translation_option='With Translation'):\n",
    "    if translation_option=='With Translation':\n",
    "        translated_text = translate(text)\n",
    "        processed_text = translated_text['translation']\n",
    "    else:\n",
    "        processed_text = text\n",
    "\n",
    "\n",
    "    locations = geo_llama.geoparse(processed_text)\n",
    "    locations_str = ', '.join([x['name'] for x in locations])\n",
    "    # Create an HTML string with highlighted place names and tooltips\n",
    "    translate_cache = {}\n",
    "    for loc in locations:\n",
    "        lat, lon = loc['latitude'], loc['longitude']\n",
    "        # if the text has been translated, we don't need to translate the name\n",
    "        if translation_option == 'With translation':\n",
    "            name = loc['name']\n",
    "        # if with_translation is false, we still want toponyms translated.\n",
    "        elif loc['name'] in translate_cache.keys():\n",
    "            name = translate_cache[loc['name']]\n",
    "        else:\n",
    "            name = translate_name(loc['name'], (lat, lon))\n",
    "            translate_cache.update({loc['name']:name})\n",
    "        # Creating a tooltip for the place name with coordinates\n",
    "        tooltip_html = f'<span style=\"background-color: yellow;\" title=\"Toponym: {name} \\n Coordinates: ({lat}, {lon})\">{loc[\"name\"]}</span>'\n",
    "        processed_text = processed_text.replace(loc['name'], tooltip_html)\n",
    "\n",
    "    # Generate the map plot\n",
    "    mapped = plot_map(locations, translate_cache)\n",
    "\n",
    "    return processed_text, locations_str, mapped"
   ]
  },
  {
   "cell_type": "code",
   "execution_count": null,
   "metadata": {},
   "outputs": [],
   "source": [
    "def main():\n",
    "    with open('data/config_files/app_info.txt', 'r') as f:\n",
    "        app_info = f.read()\n",
    "\n",
    "    input_text = gr.Textbox(label='Text')\n",
    "    input_options = gr.Radio(\n",
    "        label=\"Geoparse Mode\",\n",
    "        choices=[\"With Translation\", \"Without Translation\"],\n",
    "        value=\"With Translation\",  # Default option\n",
    "    )\n",
    "    output1 = gr.Markdown()\n",
    "    output2 = gr.Textbox(label='Toponyms')\n",
    "    output3 = gr.Plot(label='Mapped Locations')\n",
    "    demo = gr.Interface(fn=geoparse, inputs=[input_text, input_options], outputs=[output1, output2, output3], description=app_info)\n",
    "    return demo"
   ]
  },
  {
   "cell_type": "code",
   "execution_count": null,
   "metadata": {},
   "outputs": [],
   "source": [
    "demo = main()\n",
    "demo.launch(share=True)"
   ]
  }
 ],
 "metadata": {
  "kernelspec": {
   "display_name": "geollama-test-env",
   "language": "python",
   "name": "python3"
  },
  "language_info": {
   "codemirror_mode": {
    "name": "ipython",
    "version": 3
   },
   "file_extension": ".py",
   "mimetype": "text/x-python",
   "name": "python",
   "nbconvert_exporter": "python",
   "pygments_lexer": "ipython3",
   "version": "3.10.0"
  }
 },
 "nbformat": 4,
 "nbformat_minor": 2
}
