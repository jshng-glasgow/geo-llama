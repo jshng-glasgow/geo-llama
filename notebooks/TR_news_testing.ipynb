{
 "cells": [
  {
   "cell_type": "code",
   "execution_count": 2,
   "metadata": {},
   "outputs": [],
   "source": [
    "import sys\n",
    "sys.path.append('..')\n",
    "from geo_llama.data import LGLArticle\n",
    "from lxml import objectify\n",
    "from xml.etree import ElementTree as ET"
   ]
  },
  {
   "cell_type": "code",
   "execution_count": 4,
   "metadata": {},
   "outputs": [],
   "source": [
    "# open the lgl dataset using xml\n",
    "dataset = 'TR-News'\n",
    "xml = ET.parse(f\"../data/test_data/{dataset}.xml\")\n",
    "xml_root = xml.getroot()\n",
    "\n",
    "xml_str = ET.tostring(xml_root,method='xml').decode()\n",
    "xml_obj = objectify.fromstring(xml_str)"
   ]
  },
  {
   "cell_type": "code",
   "execution_count": 67,
   "metadata": {},
   "outputs": [],
   "source": [
    "import requests\n",
    "import urllib\n",
    "\n",
    "query='Wessington'\n",
    "base_url = 'http://api.geonames.org/'\n",
    "formatted_query = urllib.parse.quote(query) \n",
    "url = base_url + f'searchJSON?name={query}' + '&username=JoeShin'\n",
    "#url += f'&username={username}'\n",
    "url += '&orderby=relevance'\n",
    "url += '&maxRows=20'\n",
    "url += '&style=LONG'\n",
    "url += '&isNameRequired=true'\n",
    "session = requests.Session()\n",
    "\n",
    "try:\n",
    "    # Adjust the timeout as needed\n",
    "    r = session.get(url, timeout=10)  \n",
    "    if r.status_code != 200:\n",
    "        print(f\"Unexpected status code: {r.status_code}\")\n",
    "\n",
    "except requests.RequestException as e:\n",
    "    print(f\"Error during Geonames query: {e}\")\n",
    "    "
   ]
  },
  {
   "cell_type": "code",
   "execution_count": 71,
   "metadata": {},
   "outputs": [
    {
     "data": {
      "text/plain": [
       "{'adminCode1': 'ENG',\n",
       " 'lng': '-1.44412',\n",
       " 'geonameId': 12263205,\n",
       " 'toponymName': 'Wessington',\n",
       " 'countryId': '2635167',\n",
       " 'fcl': 'P',\n",
       " 'population': 0,\n",
       " 'countryCode': 'GB',\n",
       " 'name': 'Wessington',\n",
       " 'fclName': 'city, village,...',\n",
       " 'adminCodes1': {'ISO3166_2': 'ENG'},\n",
       " 'countryName': 'United Kingdom',\n",
       " 'fcodeName': 'populated place',\n",
       " 'adminName1': 'England',\n",
       " 'lat': '53.11687',\n",
       " 'fcode': 'PPL'}"
      ]
     },
     "execution_count": 71,
     "metadata": {},
     "output_type": "execute_result"
    }
   ],
   "source": [
    "r.json()['geonames'][3]"
   ]
  },
  {
   "cell_type": "code",
   "execution_count": 22,
   "metadata": {},
   "outputs": [],
   "source": [
    "base_url = f'https://nominatim.openstreetmap.org/'\n",
    "formatted_query = urllib.parse.quote(query) \n",
    "url = base_url + f'search?q={formatted_query}&format=json'\n",
    "\n",
    "url += '&accept-language=en'\n",
    "headers={'User-agent':'jshin'}\n",
    "try:\n",
    "    # Adjust the timeout as needed\n",
    "    r = session.get(url, timeout=10, headers=headers)  \n",
    "    if r.status_code != 200:\n",
    "        print(f\"Unexpected status code: {r.status_code}\")\n",
    "\n",
    "except requests.RequestException as e:\n",
    "    print(f\"Error during Nominatim query: {e}\")"
   ]
  },
  {
   "cell_type": "code",
   "execution_count": 23,
   "metadata": {},
   "outputs": [
    {
     "data": {
      "text/plain": [
       "[{'place_id': 240086871,\n",
       "  'licence': 'Data © OpenStreetMap contributors, ODbL 1.0. http://osm.org/copyright',\n",
       "  'osm_type': 'node',\n",
       "  'osm_id': 11127374,\n",
       "  'lat': '55.861155',\n",
       "  'lon': '-4.2501687',\n",
       "  'class': 'place',\n",
       "  'type': 'city',\n",
       "  'place_rank': 16,\n",
       "  'importance': 0.7411788310193502,\n",
       "  'addresstype': 'city',\n",
       "  'name': 'Glasgow',\n",
       "  'display_name': 'Glasgow, Glasgow City, Scotland, G2 1DY, United Kingdom',\n",
       "  'boundingbox': ['55.7011550', '56.0211550', '-4.4101687', '-4.0901687']},\n",
       " {'place_id': 292537606,\n",
       "  'licence': 'Data © OpenStreetMap contributors, ODbL 1.0. http://osm.org/copyright',\n",
       "  'osm_type': 'relation',\n",
       "  'osm_id': 130762,\n",
       "  'lat': '36.995906',\n",
       "  'lon': '-85.9124842',\n",
       "  'class': 'boundary',\n",
       "  'type': 'administrative',\n",
       "  'place_rank': 16,\n",
       "  'importance': 0.4494442372007627,\n",
       "  'addresstype': 'city',\n",
       "  'name': 'Glasgow',\n",
       "  'display_name': 'Glasgow, Barren County, Kentucky, United States',\n",
       "  'boundingbox': ['36.9606720', '37.0519890', '-85.9761610', '-85.8817490']},\n",
       " {'place_id': 293771542,\n",
       "  'licence': 'Data © OpenStreetMap contributors, ODbL 1.0. http://osm.org/copyright',\n",
       "  'osm_type': 'relation',\n",
       "  'osm_id': 124835,\n",
       "  'lat': '39.5506029',\n",
       "  'lon': '-90.4801247',\n",
       "  'class': 'boundary',\n",
       "  'type': 'administrative',\n",
       "  'place_rank': 16,\n",
       "  'importance': 0.4194530104305192,\n",
       "  'addresstype': 'village',\n",
       "  'name': 'Glasgow',\n",
       "  'display_name': 'Glasgow, Scott County, Illinois, United States',\n",
       "  'boundingbox': ['39.5414140', '39.5560520', '-90.4894220', '-90.4705130']},\n",
       " {'place_id': 293706018,\n",
       "  'licence': 'Data © OpenStreetMap contributors, ODbL 1.0. http://osm.org/copyright',\n",
       "  'osm_type': 'relation',\n",
       "  'osm_id': 141105,\n",
       "  'lat': '39.2255213',\n",
       "  'lon': '-92.8435384',\n",
       "  'class': 'boundary',\n",
       "  'type': 'administrative',\n",
       "  'place_rank': 16,\n",
       "  'importance': 0.40287198711750966,\n",
       "  'addresstype': 'city',\n",
       "  'name': 'Glasgow',\n",
       "  'display_name': 'Glasgow, Howard County, Missouri, 65254, United States',\n",
       "  'boundingbox': ['39.2165810', '39.2412110', '-92.8519520', '-92.8240010']},\n",
       " {'place_id': 327529509,\n",
       "  'licence': 'Data © OpenStreetMap contributors, ODbL 1.0. http://osm.org/copyright',\n",
       "  'osm_type': 'relation',\n",
       "  'osm_id': 142525,\n",
       "  'lat': '48.1955915',\n",
       "  'lon': '-106.635556',\n",
       "  'class': 'boundary',\n",
       "  'type': 'administrative',\n",
       "  'place_rank': 16,\n",
       "  'importance': 0.38314434996348484,\n",
       "  'addresstype': 'town',\n",
       "  'name': 'Glasgow',\n",
       "  'display_name': 'Glasgow, Valley County, Montana, United States',\n",
       "  'boundingbox': ['48.1883621', '48.2125509', '-106.6504184', '-106.6127239']},\n",
       " {'place_id': 295882920,\n",
       "  'licence': 'Data © OpenStreetMap contributors, ODbL 1.0. http://osm.org/copyright',\n",
       "  'osm_type': 'relation',\n",
       "  'osm_id': 238667,\n",
       "  'lat': '38.2153091',\n",
       "  'lon': '-81.4246274',\n",
       "  'class': 'boundary',\n",
       "  'type': 'administrative',\n",
       "  'place_rank': 16,\n",
       "  'importance': 0.37138857826386573,\n",
       "  'addresstype': 'town',\n",
       "  'name': 'Glasgow',\n",
       "  'display_name': 'Glasgow, Kanawha County, West Virginia, United States',\n",
       "  'boundingbox': ['38.2038740', '38.2178860', '-81.4295870', '-81.4153880']},\n",
       " {'place_id': 300637513,\n",
       "  'licence': 'Data © OpenStreetMap contributors, ODbL 1.0. http://osm.org/copyright',\n",
       "  'osm_type': 'relation',\n",
       "  'osm_id': 206933,\n",
       "  'lat': '37.6340238',\n",
       "  'lon': '-79.4503138',\n",
       "  'class': 'boundary',\n",
       "  'type': 'administrative',\n",
       "  'place_rank': 16,\n",
       "  'importance': 0.3405469222584372,\n",
       "  'addresstype': 'town',\n",
       "  'name': 'Glasgow',\n",
       "  'display_name': 'Glasgow, Rockbridge County, Virginia, United States',\n",
       "  'boundingbox': ['37.6236105', '37.6540821', '-79.4735129', '-79.4336051']},\n",
       " {'place_id': 322243940,\n",
       "  'licence': 'Data © OpenStreetMap contributors, ODbL 1.0. http://osm.org/copyright',\n",
       "  'osm_type': 'relation',\n",
       "  'osm_id': 187320,\n",
       "  'lat': '40.6456205',\n",
       "  'lon': '-80.5059007',\n",
       "  'class': 'boundary',\n",
       "  'type': 'administrative',\n",
       "  'place_rank': 16,\n",
       "  'importance': 0.3186693345312295,\n",
       "  'addresstype': 'borough',\n",
       "  'name': 'Glasgow',\n",
       "  'display_name': 'Glasgow, Beaver County, Pennsylvania, United States',\n",
       "  'boundingbox': ['40.6413770', '40.6473860', '-80.5124210', '-80.5032480']}]"
      ]
     },
     "execution_count": 23,
     "metadata": {},
     "output_type": "execute_result"
    }
   ],
   "source": [
    "r.json()"
   ]
  },
  {
   "cell_type": "code",
   "execution_count": 37,
   "metadata": {},
   "outputs": [
    {
     "ename": "TypeError",
     "evalue": "sequence item 1: expected str instance, NoneType found",
     "output_type": "error",
     "traceback": [
      "\u001b[1;31m---------------------------------------------------------------------------\u001b[0m",
      "\u001b[1;31mTypeError\u001b[0m                                 Traceback (most recent call last)",
      "Cell \u001b[1;32mIn[37], line 1\u001b[0m\n\u001b[1;32m----> 1\u001b[0m \u001b[38;5;124;43m'\u001b[39;49m\u001b[38;5;124;43m, \u001b[39;49m\u001b[38;5;124;43m'\u001b[39;49m\u001b[38;5;241;43m.\u001b[39;49m\u001b[43mjoin\u001b[49m\u001b[43m(\u001b[49m\u001b[43m[\u001b[49m\u001b[38;5;124;43m'\u001b[39;49m\u001b[38;5;124;43mSouth America\u001b[39;49m\u001b[38;5;124;43m'\u001b[39;49m\u001b[43m,\u001b[49m\u001b[43m \u001b[49m\u001b[38;5;28;43;01mNone\u001b[39;49;00m\u001b[43m,\u001b[49m\u001b[43m \u001b[49m\u001b[38;5;28;43;01mNone\u001b[39;49;00m\u001b[43m]\u001b[49m\u001b[43m)\u001b[49m\n",
      "\u001b[1;31mTypeError\u001b[0m: sequence item 1: expected str instance, NoneType found"
     ]
    }
   ],
   "source": [
    "', '.join(['South America', None, None])"
   ]
  },
  {
   "cell_type": "code",
   "execution_count": 72,
   "metadata": {},
   "outputs": [],
   "source": [
    "# open the lgl dataset using xml\n",
    "dataset = 'GWN'\n",
    "xml = ET.parse(f\"../data/test_data/{dataset}.xml\")\n",
    "xml_root = xml.getroot()\n",
    "\n",
    "xml_str = ET.tostring(xml_root,method='xml').decode()\n",
    "xml_obj = objectify.fromstring(xml_str)"
   ]
  },
  {
   "cell_type": "code",
   "execution_count": 73,
   "metadata": {},
   "outputs": [
    {
     "data": {
      "text/plain": [
       "'This area formed the heart of the plantation of Bernard Xavier Philippe de Marigny de Mandeville, who lived in a mansion where the electrical substation now stands. Expecting that the Louisiana Purchase would spur urban expansion, Marigny had his parcel subdivided for urbanization in 1805, hiring French engineer Nicolas de Finiels to design a plat. Finiels successfully reconciled an extension of the French Quarter street grid with a sharp bend of the Mississippi River by reshaping key connector squares into polygons of various configurations, which surveyor Barthelemy Lafon then laid out in 1806. The first neighborhood downriver from the city proper, the Faubourg Marigny soon developed into a predominantly Creole community, including substantial numbers of both Free People of Color, as well as enslaved African Americans and German, Irish and other immigrant populations. A century later, these riverfront blocks hosted a variety of light industrial land uses worked by the neighborhood’s blue-collar residents. The four blocks surrounding this intersection were occupied in the early 1900s by rice mills, an ice plant, horse and mule stables, a yarn and hosiery factory and a streetcar barn; the streets themselves were paved in granite stones.\\n\\nOriginally named Rue d’Enghein, the street was later called Lafayette and then Almonaster before finally being named Franklin. This avenue marked the lower limit of the Marigny Plantation and of the original faubourg, despite that current perception places the neighborhood’s lower border at Press Street. The area below Franklin was subdivided after 1810 as the Faubourg D’Aunoy and soon developed a similar cultural milieu as its neighbor. The imposing lavender building overlooking the Chartres/Franklin intersection was once a Methodist church, and the restaurant across the street is said to incorporate circa-1790s structural elements from the D’Aunoy plantation complex. Royal Street heading upriver: This stretch of Royal Street, formerly Rue Casa Calvo, is quintessential Faubourg Marigny. Of particular interest is 2231 Royal, a one-of-a-kind 1830s townhouse with a central carriageway and raised basement, as well as the two solid circa-1850s Greek Revival structures on either side of the Elysian Fields intersection. Royal Street was the return route of the “streetcar named Desire,” after it rolled down Bourbon and Dauphine streets to Desire Street in present-day Bywater. Electricity for the streetcar system in these lower neighborhoods came from the brick edifice at the foot of Elysian Fields, known in the early 1900s as the New Orleans Railways and Light Company Claiborne Power House.\\n\\nYears before the Marigny family came into possession of this land, it was owned by Claude Joseph Villars Dubreuil, a French colonial builder in constant need of lumber. In the 1740s, Dubreuil had a diversion canal excavated from the levee through the center of his parcel, to power a sawmill with the flow of river water. Dubreuil’s canal later became the Marigny Canal, and when Finiels designed his street grid in 1805, he used this pre-existing axis to serve as the subdivision’s grand avenue, giving it great width, an adjacent park (Washington Square), and a lovely name, Champs-Élysées . In 1831, Elysian Fields became the right-of-way for the track bed of the Pontchartrain Railroad, the first to complete its charter west of the Appalachians. Known locally as “Smoky Mary,” the steam line operated until 1932. Royal Street at Washington Square: Into the 1960s, the river side of this block was home to Holy Redeemer Church, a black Catholic congregation worshipping in a circa-1860 edifice originally designed as the Third Presbyterian Church by architects Albert Diettel and Henry Howard. Next door, on the corner of Frenchmen Street, was a Carnegie Library built in 1902. All this changed when Hurricane Betsy utterly destroyed the church and damaged the library. Five years later, in 1970, the cleared lot became home to the Christopher Inn, a project of the Archdiocese’s nonprofit housing agency created by Archbishop Phillip Hannan for elderly congregants. The building’s large scale and International Style have raised the ire of historicists ever since, but the apartments provide affordable downtown living for senior citizens, many of whom grew up in the neighborhood and would otherwise be unable to live here.'"
      ]
     },
     "execution_count": 73,
     "metadata": {},
     "output_type": "execute_result"
    }
   ],
   "source": [
    "xml_obj.article[0].findtext('text')"
   ]
  },
  {
   "cell_type": "code",
   "execution_count": 76,
   "metadata": {},
   "outputs": [
    {
     "data": {
      "text/plain": [
       "'Frenchmen Street'"
      ]
     },
     "execution_count": 76,
     "metadata": {},
     "output_type": "execute_result"
    }
   ],
   "source": [
    "xml_obj.article[0].toponyms[0].toponym.extractedName"
   ]
  }
 ],
 "metadata": {
  "kernelspec": {
   "display_name": "geollama-test-env",
   "language": "python",
   "name": "python3"
  },
  "language_info": {
   "codemirror_mode": {
    "name": "ipython",
    "version": 3
   },
   "file_extension": ".py",
   "mimetype": "text/x-python",
   "name": "python",
   "nbconvert_exporter": "python",
   "pygments_lexer": "ipython3",
   "version": "3.10.13"
  }
 },
 "nbformat": 4,
 "nbformat_minor": 2
}
