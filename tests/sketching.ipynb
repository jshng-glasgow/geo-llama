{
 "cells": [
  {
   "cell_type": "code",
   "execution_count": 1,
   "metadata": {},
   "outputs": [],
   "source": [
    "import json\n"
   ]
  },
  {
   "cell_type": "code",
   "execution_count": 9,
   "metadata": {},
   "outputs": [
    {
     "data": {
      "text/plain": [
       "['toponym1', 'toponym2', 'top]}\\n']"
      ]
     },
     "execution_count": 9,
     "metadata": {},
     "output_type": "execute_result"
    }
   ],
   "source": [
    "# let say we have some broken json as below:\n",
    "\n",
    "json_str = '{\"toponyms\":[\"toponym1\", \"toponym2\", \"top]}\\n'\n",
    "\n",
    "# we want to grab the list elements from this, including the broken ones:\n",
    "\n",
    "list_elements_str = json_str.split('[\"')[1]\n",
    "list_elements = list_elements_str.split('\", \"')\n",
    "list_elements"
   ]
  },
  {
   "cell_type": "code",
   "execution_count": 10,
   "metadata": {},
   "outputs": [],
   "source": [
    "# we now want to get rid of any trailing\n",
    "for i, element in enumerate(list_elements[-1][::-1]):\n",
    "    if element.isalpha() or element.isnumeric():\n",
    "        break\n",
    "list_elements[-1] = list_elements[-1][:-i]"
   ]
  },
  {
   "cell_type": "code",
   "execution_count": 12,
   "metadata": {},
   "outputs": [
    {
     "data": {
      "text/plain": [
       "['toponym1', 'toponym2', 'top']"
      ]
     },
     "execution_count": 12,
     "metadata": {},
     "output_type": "execute_result"
    }
   ],
   "source": [
    "list_elements"
   ]
  },
  {
   "cell_type": "code",
   "execution_count": 6,
   "metadata": {},
   "outputs": [],
   "source": [
    "import requests_mock\n",
    "import requests\n",
    "\n",
    "@requests_mock.mock()\n",
    "def test_func(m, url):\n",
    "    m.get(url, text='success')\n",
    "    return requests.get(url).text"
   ]
  },
  {
   "cell_type": "code",
   "execution_count": 7,
   "metadata": {},
   "outputs": [
    {
     "data": {
      "text/plain": [
       "'Hello World!'"
      ]
     },
     "execution_count": 7,
     "metadata": {},
     "output_type": "execute_result"
    }
   ],
   "source": [
    "test_func()"
   ]
  },
  {
   "cell_type": "code",
   "execution_count": 8,
   "metadata": {},
   "outputs": [],
   "source": [
    "@requests_mock.mock()\n",
    "def mock_request(m):\n",
    "    m.get(url, text='success')\n",
    "    return requests.get(url).text"
   ]
  },
  {
   "cell_type": "code",
   "execution_count": 29,
   "metadata": {},
   "outputs": [],
   "source": [
    "from unittest.mock import patch\n",
    "import sys\n",
    "sys.path.append('..')\n",
    "from geo_llama.gazetteer import Gazetteer\n",
    "import requests_mock\n",
    "import requests\n",
    "\n",
    "@requests_mock.mock()  \n",
    "def test_nominatim_query_calls(m):\n",
    "    # set up mocking for nominatim api\n",
    "    gaz = Gazetteer(gazetteer_source='nominatim')\n",
    "    url = gaz.build_url('glasgow')\n",
    "    json_out = '[{\"name\":\"test\"}]'\n",
    "    m.get(url, text=json_out)\n",
    "    with patch.object(gaz, '_nominatim_query', wraps=gaz._nominatim_query) as mock_nom_query:\n",
    "        out = gaz.query('glasgow', user_agent='gl-test')\n",
    "        mock_nom_query.assert_called()\n",
    "        "
   ]
  },
  {
   "cell_type": "code",
   "execution_count": 30,
   "metadata": {},
   "outputs": [],
   "source": [
    "test_nominatim_query_calls()"
   ]
  },
  {
   "cell_type": "code",
   "execution_count": 20,
   "metadata": {},
   "outputs": [
    {
     "data": {
      "text/plain": [
       "[{'place_id': 269857672,\n",
       "  'licence': 'Data © OpenStreetMap contributors, ODbL 1.0. http://osm.org/copyright',\n",
       "  'osm_type': 'node',\n",
       "  'osm_id': 11127374,\n",
       "  'lat': '55.861155',\n",
       "  'lon': '-4.2501687',\n",
       "  'class': 'place',\n",
       "  'type': 'city',\n",
       "  'place_rank': 16,\n",
       "  'importance': 0.7411788310193502,\n",
       "  'addresstype': 'city',\n",
       "  'name': 'Glasgow',\n",
       "  'display_name': 'Glasgow, Glasgow City, Scotland, G2 1DY, United Kingdom',\n",
       "  'boundingbox': ['55.7011550', '56.0211550', '-4.4101687', '-4.0901687']},\n",
       " {'place_id': 325365145,\n",
       "  'licence': 'Data © OpenStreetMap contributors, ODbL 1.0. http://osm.org/copyright',\n",
       "  'osm_type': 'relation',\n",
       "  'osm_id': 130762,\n",
       "  'lat': '36.995906',\n",
       "  'lon': '-85.9124842',\n",
       "  'class': 'boundary',\n",
       "  'type': 'administrative',\n",
       "  'place_rank': 16,\n",
       "  'importance': 0.4494442372007627,\n",
       "  'addresstype': 'city',\n",
       "  'name': 'Glasgow',\n",
       "  'display_name': 'Glasgow, Barren County, Kentucky, United States',\n",
       "  'boundingbox': ['36.9606720', '37.0519890', '-85.9761610', '-85.8817490']},\n",
       " {'place_id': 322815423,\n",
       "  'licence': 'Data © OpenStreetMap contributors, ODbL 1.0. http://osm.org/copyright',\n",
       "  'osm_type': 'relation',\n",
       "  'osm_id': 124835,\n",
       "  'lat': '39.5506029',\n",
       "  'lon': '-90.4801247',\n",
       "  'class': 'boundary',\n",
       "  'type': 'administrative',\n",
       "  'place_rank': 16,\n",
       "  'importance': 0.4194530104305192,\n",
       "  'addresstype': 'village',\n",
       "  'name': 'Glasgow',\n",
       "  'display_name': 'Glasgow, Scott County, Illinois, United States',\n",
       "  'boundingbox': ['39.5414140', '39.5560520', '-90.4894220', '-90.4705130']},\n",
       " {'place_id': 323179695,\n",
       "  'licence': 'Data © OpenStreetMap contributors, ODbL 1.0. http://osm.org/copyright',\n",
       "  'osm_type': 'relation',\n",
       "  'osm_id': 141105,\n",
       "  'lat': '39.2255213',\n",
       "  'lon': '-92.8435384',\n",
       "  'class': 'boundary',\n",
       "  'type': 'administrative',\n",
       "  'place_rank': 16,\n",
       "  'importance': 0.40287198711750966,\n",
       "  'addresstype': 'city',\n",
       "  'name': 'Glasgow',\n",
       "  'display_name': 'Glasgow, Howard County, Missouri, 65254, United States',\n",
       "  'boundingbox': ['39.2165810', '39.2412110', '-92.8519520', '-92.8240010']},\n",
       " {'place_id': 30337202,\n",
       "  'licence': 'Data © OpenStreetMap contributors, ODbL 1.0. http://osm.org/copyright',\n",
       "  'osm_type': 'relation',\n",
       "  'osm_id': 142525,\n",
       "  'lat': '48.1955915',\n",
       "  'lon': '-106.635556',\n",
       "  'class': 'boundary',\n",
       "  'type': 'administrative',\n",
       "  'place_rank': 16,\n",
       "  'importance': 0.38314434996348484,\n",
       "  'addresstype': 'town',\n",
       "  'name': 'Glasgow',\n",
       "  'display_name': 'Glasgow, Valley County, Montana, United States',\n",
       "  'boundingbox': ['48.1883621', '48.2125509', '-106.6504184', '-106.6127239']},\n",
       " {'place_id': 325194094,\n",
       "  'licence': 'Data © OpenStreetMap contributors, ODbL 1.0. http://osm.org/copyright',\n",
       "  'osm_type': 'relation',\n",
       "  'osm_id': 238667,\n",
       "  'lat': '38.2153091',\n",
       "  'lon': '-81.4246274',\n",
       "  'class': 'boundary',\n",
       "  'type': 'administrative',\n",
       "  'place_rank': 16,\n",
       "  'importance': 0.37138857826386573,\n",
       "  'addresstype': 'town',\n",
       "  'name': 'Glasgow',\n",
       "  'display_name': 'Glasgow, Kanawha County, West Virginia, United States',\n",
       "  'boundingbox': ['38.2038740', '38.2178860', '-81.4295870', '-81.4153880']},\n",
       " {'place_id': 3595852,\n",
       "  'licence': 'Data © OpenStreetMap contributors, ODbL 1.0. http://osm.org/copyright',\n",
       "  'osm_type': 'relation',\n",
       "  'osm_id': 206933,\n",
       "  'lat': '37.6340238',\n",
       "  'lon': '-79.4503138',\n",
       "  'class': 'boundary',\n",
       "  'type': 'administrative',\n",
       "  'place_rank': 16,\n",
       "  'importance': 0.3405469222584372,\n",
       "  'addresstype': 'town',\n",
       "  'name': 'Glasgow',\n",
       "  'display_name': 'Glasgow, Rockbridge County, Virginia, United States',\n",
       "  'boundingbox': ['37.6236105', '37.6540821', '-79.4735129', '-79.4336051']},\n",
       " {'place_id': 24971348,\n",
       "  'licence': 'Data © OpenStreetMap contributors, ODbL 1.0. http://osm.org/copyright',\n",
       "  'osm_type': 'relation',\n",
       "  'osm_id': 187320,\n",
       "  'lat': '40.6456205',\n",
       "  'lon': '-80.5059007',\n",
       "  'class': 'boundary',\n",
       "  'type': 'administrative',\n",
       "  'place_rank': 16,\n",
       "  'importance': 0.3186693345312295,\n",
       "  'addresstype': 'borough',\n",
       "  'name': 'Glasgow',\n",
       "  'display_name': 'Glasgow, Beaver County, Pennsylvania, United States',\n",
       "  'boundingbox': ['40.6413770', '40.6473860', '-80.5124210', '-80.5032480']}]"
      ]
     },
     "execution_count": 20,
     "metadata": {},
     "output_type": "execute_result"
    }
   ],
   "source": [
    "gaz = Gazetteer(gazetteer_source='nominatim')\n",
    "out = gaz.query('glasgow', user_agent='test_123')\n",
    "out"
   ]
  }
 ],
 "metadata": {
  "kernelspec": {
   "display_name": "geollama-test-env",
   "language": "python",
   "name": "python3"
  },
  "language_info": {
   "codemirror_mode": {
    "name": "ipython",
    "version": 3
   },
   "file_extension": ".py",
   "mimetype": "text/x-python",
   "name": "python",
   "nbconvert_exporter": "python",
   "pygments_lexer": "ipython3",
   "version": "3.10.0"
  }
 },
 "nbformat": 4,
 "nbformat_minor": 2
}
